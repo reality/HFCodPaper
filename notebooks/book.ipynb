{
 "cells": [
  {
   "cell_type": "code",
   "execution_count": 2,
   "id": "b080701d-f382-4c9c-8c5a-e40f8642c1d3",
   "metadata": {},
   "outputs": [],
   "source": [
    "import numpy as np                                                                                                                                                                                                                          \n",
    "import pandas as pd\n",
    "\n",
    "from sklearn.pipeline import Pipeline\n",
    "from sklearn.feature_extraction.text import TfidfVectorizer\n",
    "\n",
    "from sklearn.feature_extraction.text import CountVectorizer\n",
    "from sklearn.naive_bayes import MultinomialNB\n",
    "from sklearn.svm import LinearSVC\n",
    "\n",
    "from imblearn.over_sampling import SMOTE\n",
    "\n",
    "from sklearn.linear_model import SGDClassifier\n",
    "from sklearn.model_selection import GridSearchCV\n",
    "\n",
    "\n",
    "from sklearn import metrics"
   ]
  },
  {
   "cell_type": "code",
   "execution_count": 3,
   "id": "943ef87b-69ff-4b29-8b29-6acdd60dbc74",
   "metadata": {},
   "outputs": [
    {
     "name": "stdout",
     "output_type": "stream",
     "text": [
      "Defaulting to user installation because normal site-packages is not writeable\n",
      "Requirement already satisfied: imbalanced-learn in /home/reality/.local/lib/python3.12/site-packages (0.12.2)\n",
      "Collecting imbalanced-learn\n",
      "  Downloading imbalanced_learn-0.12.3-py3-none-any.whl.metadata (8.3 kB)\n",
      "Requirement already satisfied: numpy>=1.17.3 in /usr/lib/python3.12/site-packages (from imbalanced-learn) (1.26.4)\n",
      "Requirement already satisfied: scipy>=1.5.0 in /usr/lib/python3.12/site-packages (from imbalanced-learn) (1.13.0)\n",
      "Requirement already satisfied: scikit-learn>=1.0.2 in /usr/lib/python3.12/site-packages (from imbalanced-learn) (1.4.2)\n",
      "Requirement already satisfied: joblib>=1.1.1 in /usr/lib/python3.12/site-packages (from imbalanced-learn) (1.3.2)\n",
      "Requirement already satisfied: threadpoolctl>=2.0.0 in /usr/lib/python3.12/site-packages (from imbalanced-learn) (3.4.0)\n",
      "Downloading imbalanced_learn-0.12.3-py3-none-any.whl (258 kB)\n",
      "\u001b[2K   \u001b[38;2;114;156;31m━━━━━━━━━━━━━━━━━━━━━━━━━━━━━━━━━━━━━━━━\u001b[0m \u001b[32m258.3/258.3 kB\u001b[0m \u001b[31m5.3 MB/s\u001b[0m eta \u001b[36m0:00:00\u001b[0m MB/s\u001b[0m eta \u001b[36m0:00:01\u001b[0m\n",
      "\u001b[?25hInstalling collected packages: imbalanced-learn\n",
      "  Attempting uninstall: imbalanced-learn\n",
      "    Found existing installation: imbalanced-learn 0.12.2\n",
      "    Uninstalling imbalanced-learn-0.12.2:\n",
      "      Successfully uninstalled imbalanced-learn-0.12.2\n",
      "Successfully installed imbalanced-learn-0.12.3\n"
     ]
    }
   ],
   "source": [
    "!pip install -U imbalanced-learn --break-system-packages\n"
   ]
  },
  {
   "cell_type": "code",
   "execution_count": 6,
   "id": "78cd7ee7-2c0f-44c8-8286-bbb642cf239b",
   "metadata": {},
   "outputs": [
    {
     "name": "stdout",
     "output_type": "stream",
     "text": [
      "Valid      2228\n",
      "Test       1825\n",
      "Explore     300\n",
      "Name: v, dtype: int64\n"
     ]
    },
    {
     "data": {
      "text/plain": [
       "False    481\n",
       "True     119\n",
       "Name: explicitcoding, dtype: int64"
      ]
     },
     "execution_count": 6,
     "metadata": {},
     "output_type": "execute_result"
    }
   ],
   "source": [
    "# Load The Things\n",
    "df = pd.read_csv('../ext_sample.tsv', sep='\\t')\n",
    "\n",
    "df = df.replace({None: False, 'no': False, 'yes': True, 'false': False, 'true': True})\n",
    "print(df['v'].value_counts())\n",
    "df = df[df['hasgroundtruth'] == True]\n",
    "df = df[df['text'].isna() == False]\n",
    "df['explicitcoding'].value_counts()\n"
   ]
  },
  {
   "cell_type": "code",
   "execution_count": 8,
   "id": "3e9c22a4-f67f-40e2-b829-8af3ffbee263",
   "metadata": {},
   "outputs": [
    {
     "data": {
      "text/plain": [
       "Valid      294\n",
       "Test       291\n",
       "Explore     15\n",
       "Name: v, dtype: int64"
      ]
     },
     "execution_count": 8,
     "metadata": {},
     "output_type": "execute_result"
    }
   ],
   "source": [
    "\n",
    "df['v'].value_counts()"
   ]
  },
  {
   "cell_type": "code",
   "execution_count": 9,
   "id": "2f85b866-ca8d-4b06-8f44-dc8e7e715275",
   "metadata": {},
   "outputs": [],
   "source": [
    "\n",
    "\n",
    "train = df[df['v'].isin(['Explore', 'Valid'])]\n",
    "test = df[df['v'].isin(['Test'])]\n",
    "\n"
   ]
  },
  {
   "cell_type": "code",
   "execution_count": 10,
   "id": "1dec8367-66aa-410b-bda4-b497d9657084",
   "metadata": {},
   "outputs": [
    {
     "data": {
      "text/plain": [
       "False    230\n",
       "True      61\n",
       "Name: explicitcoding, dtype: int64"
      ]
     },
     "execution_count": 10,
     "metadata": {},
     "output_type": "execute_result"
    }
   ],
   "source": [
    "test['explicitcoding'].value_counts()"
   ]
  },
  {
   "cell_type": "code",
   "execution_count": 11,
   "id": "e51ed299-98bd-4980-81ea-4909d96ea91f",
   "metadata": {},
   "outputs": [],
   "source": [
    "\n",
    "\n",
    "X = train['text']\n",
    "y = train['explicitcoding']\n",
    "Xtest = test['text']\n",
    "ytest = test['explicitcoding']\n",
    "\n",
    "allX = df['text']\n",
    "allY = df['explicitcoding']\n",
    "\n"
   ]
  },
  {
   "cell_type": "code",
   "execution_count": 12,
   "id": "188972f4-fe5d-4ab1-80b0-8990eb56a532",
   "metadata": {},
   "outputs": [
    {
     "data": {
      "text/plain": [
       "61"
      ]
     },
     "execution_count": 12,
     "metadata": {},
     "output_type": "execute_result"
    }
   ],
   "source": [
    "len(test[test['explicitcoding'] == True])"
   ]
  },
  {
   "cell_type": "code",
   "execution_count": 13,
   "id": "c0c5bae2-332e-4acb-83c2-5652b14d92a3",
   "metadata": {},
   "outputs": [],
   "source": [
    "f2 = open('data/Vocabulary/BigramMatchedTokens.txt', 'r')\n",
    "\n",
    "v = f2.readlines()# +f1.readlines()\n",
    "v = list({d:None for d in v}.keys())\n",
    "v = [s.replace('\\n','').replace('_', ' ') for s in v]\n",
    "#."
   ]
  },
  {
   "cell_type": "code",
   "execution_count": 14,
   "id": "f6221f21-fd7c-4ee4-aa6b-72d33945130f",
   "metadata": {},
   "outputs": [],
   "source": [
    "\n",
    "from sklearn.svm import SVC\n",
    "from sklearn.ensemble import AdaBoostClassifier\n",
    "\n",
    "from sklearn.neural_network import MLPClassifier\n",
    "from imblearn.over_sampling import SMOTE"
   ]
  },
  {
   "cell_type": "code",
   "execution_count": 15,
   "id": "06112a5c-0cfc-486c-abd9-e20cf8e299db",
   "metadata": {},
   "outputs": [
    {
     "data": {
      "text/plain": [
       "307"
      ]
     },
     "execution_count": 15,
     "metadata": {},
     "output_type": "execute_result"
    }
   ],
   "source": [
    "len(v)"
   ]
  },
  {
   "cell_type": "code",
   "execution_count": 16,
   "id": "a679297a-f5d4-4999-ae8e-6ef81d6f72e8",
   "metadata": {},
   "outputs": [
    {
     "name": "stdout",
     "output_type": "stream",
     "text": [
      "False\n"
     ]
    }
   ],
   "source": [
    "contains_boolean = True in X or False in X\n",
    "print(contains_boolean)  # True\n",
    "X = X.astype(str)"
   ]
  },
  {
   "cell_type": "code",
   "execution_count": 17,
   "id": "fd071f31-0719-48b1-a85e-f8871e1723f5",
   "metadata": {},
   "outputs": [],
   "source": [
    "\n",
    "tf_vect = TfidfVectorizer(vocabulary=v, ngram_range=(1,2), binary = True)\n",
    "tf_vect.fit(X, y)\n",
    "\n",
    "# transform the training and validation data using count vectorizer object\n",
    "XT = tf_vect.transform(X)\n",
    "sm = SMOTE(random_state=420)\n",
    "XT, YT = sm.fit_resample(XT, y)\n",
    "#XT, YT = XT, y"
   ]
  },
  {
   "cell_type": "code",
   "execution_count": 18,
   "id": "9e9c6972-3237-4321-a146-c238c38c7a7c",
   "metadata": {},
   "outputs": [
    {
     "name": "stdout",
     "output_type": "stream",
     "text": [
      "Fitting 5 folds for each of 198 candidates, totalling 990 fits\n"
     ]
    },
    {
     "data": {
      "text/html": [
       "<style>#sk-container-id-1 {\n",
       "  /* Definition of color scheme common for light and dark mode */\n",
       "  --sklearn-color-text: black;\n",
       "  --sklearn-color-line: gray;\n",
       "  /* Definition of color scheme for unfitted estimators */\n",
       "  --sklearn-color-unfitted-level-0: #fff5e6;\n",
       "  --sklearn-color-unfitted-level-1: #f6e4d2;\n",
       "  --sklearn-color-unfitted-level-2: #ffe0b3;\n",
       "  --sklearn-color-unfitted-level-3: chocolate;\n",
       "  /* Definition of color scheme for fitted estimators */\n",
       "  --sklearn-color-fitted-level-0: #f0f8ff;\n",
       "  --sklearn-color-fitted-level-1: #d4ebff;\n",
       "  --sklearn-color-fitted-level-2: #b3dbfd;\n",
       "  --sklearn-color-fitted-level-3: cornflowerblue;\n",
       "\n",
       "  /* Specific color for light theme */\n",
       "  --sklearn-color-text-on-default-background: var(--sg-text-color, var(--theme-code-foreground, var(--jp-content-font-color1, black)));\n",
       "  --sklearn-color-background: var(--sg-background-color, var(--theme-background, var(--jp-layout-color0, white)));\n",
       "  --sklearn-color-border-box: var(--sg-text-color, var(--theme-code-foreground, var(--jp-content-font-color1, black)));\n",
       "  --sklearn-color-icon: #696969;\n",
       "\n",
       "  @media (prefers-color-scheme: dark) {\n",
       "    /* Redefinition of color scheme for dark theme */\n",
       "    --sklearn-color-text-on-default-background: var(--sg-text-color, var(--theme-code-foreground, var(--jp-content-font-color1, white)));\n",
       "    --sklearn-color-background: var(--sg-background-color, var(--theme-background, var(--jp-layout-color0, #111)));\n",
       "    --sklearn-color-border-box: var(--sg-text-color, var(--theme-code-foreground, var(--jp-content-font-color1, white)));\n",
       "    --sklearn-color-icon: #878787;\n",
       "  }\n",
       "}\n",
       "\n",
       "#sk-container-id-1 {\n",
       "  color: var(--sklearn-color-text);\n",
       "}\n",
       "\n",
       "#sk-container-id-1 pre {\n",
       "  padding: 0;\n",
       "}\n",
       "\n",
       "#sk-container-id-1 input.sk-hidden--visually {\n",
       "  border: 0;\n",
       "  clip: rect(1px 1px 1px 1px);\n",
       "  clip: rect(1px, 1px, 1px, 1px);\n",
       "  height: 1px;\n",
       "  margin: -1px;\n",
       "  overflow: hidden;\n",
       "  padding: 0;\n",
       "  position: absolute;\n",
       "  width: 1px;\n",
       "}\n",
       "\n",
       "#sk-container-id-1 div.sk-dashed-wrapped {\n",
       "  border: 1px dashed var(--sklearn-color-line);\n",
       "  margin: 0 0.4em 0.5em 0.4em;\n",
       "  box-sizing: border-box;\n",
       "  padding-bottom: 0.4em;\n",
       "  background-color: var(--sklearn-color-background);\n",
       "}\n",
       "\n",
       "#sk-container-id-1 div.sk-container {\n",
       "  /* jupyter's `normalize.less` sets `[hidden] { display: none; }`\n",
       "     but bootstrap.min.css set `[hidden] { display: none !important; }`\n",
       "     so we also need the `!important` here to be able to override the\n",
       "     default hidden behavior on the sphinx rendered scikit-learn.org.\n",
       "     See: https://github.com/scikit-learn/scikit-learn/issues/21755 */\n",
       "  display: inline-block !important;\n",
       "  position: relative;\n",
       "}\n",
       "\n",
       "#sk-container-id-1 div.sk-text-repr-fallback {\n",
       "  display: none;\n",
       "}\n",
       "\n",
       "div.sk-parallel-item,\n",
       "div.sk-serial,\n",
       "div.sk-item {\n",
       "  /* draw centered vertical line to link estimators */\n",
       "  background-image: linear-gradient(var(--sklearn-color-text-on-default-background), var(--sklearn-color-text-on-default-background));\n",
       "  background-size: 2px 100%;\n",
       "  background-repeat: no-repeat;\n",
       "  background-position: center center;\n",
       "}\n",
       "\n",
       "/* Parallel-specific style estimator block */\n",
       "\n",
       "#sk-container-id-1 div.sk-parallel-item::after {\n",
       "  content: \"\";\n",
       "  width: 100%;\n",
       "  border-bottom: 2px solid var(--sklearn-color-text-on-default-background);\n",
       "  flex-grow: 1;\n",
       "}\n",
       "\n",
       "#sk-container-id-1 div.sk-parallel {\n",
       "  display: flex;\n",
       "  align-items: stretch;\n",
       "  justify-content: center;\n",
       "  background-color: var(--sklearn-color-background);\n",
       "  position: relative;\n",
       "}\n",
       "\n",
       "#sk-container-id-1 div.sk-parallel-item {\n",
       "  display: flex;\n",
       "  flex-direction: column;\n",
       "}\n",
       "\n",
       "#sk-container-id-1 div.sk-parallel-item:first-child::after {\n",
       "  align-self: flex-end;\n",
       "  width: 50%;\n",
       "}\n",
       "\n",
       "#sk-container-id-1 div.sk-parallel-item:last-child::after {\n",
       "  align-self: flex-start;\n",
       "  width: 50%;\n",
       "}\n",
       "\n",
       "#sk-container-id-1 div.sk-parallel-item:only-child::after {\n",
       "  width: 0;\n",
       "}\n",
       "\n",
       "/* Serial-specific style estimator block */\n",
       "\n",
       "#sk-container-id-1 div.sk-serial {\n",
       "  display: flex;\n",
       "  flex-direction: column;\n",
       "  align-items: center;\n",
       "  background-color: var(--sklearn-color-background);\n",
       "  padding-right: 1em;\n",
       "  padding-left: 1em;\n",
       "}\n",
       "\n",
       "\n",
       "/* Toggleable style: style used for estimator/Pipeline/ColumnTransformer box that is\n",
       "clickable and can be expanded/collapsed.\n",
       "- Pipeline and ColumnTransformer use this feature and define the default style\n",
       "- Estimators will overwrite some part of the style using the `sk-estimator` class\n",
       "*/\n",
       "\n",
       "/* Pipeline and ColumnTransformer style (default) */\n",
       "\n",
       "#sk-container-id-1 div.sk-toggleable {\n",
       "  /* Default theme specific background. It is overwritten whether we have a\n",
       "  specific estimator or a Pipeline/ColumnTransformer */\n",
       "  background-color: var(--sklearn-color-background);\n",
       "}\n",
       "\n",
       "/* Toggleable label */\n",
       "#sk-container-id-1 label.sk-toggleable__label {\n",
       "  cursor: pointer;\n",
       "  display: block;\n",
       "  width: 100%;\n",
       "  margin-bottom: 0;\n",
       "  padding: 0.5em;\n",
       "  box-sizing: border-box;\n",
       "  text-align: center;\n",
       "}\n",
       "\n",
       "#sk-container-id-1 label.sk-toggleable__label-arrow:before {\n",
       "  /* Arrow on the left of the label */\n",
       "  content: \"▸\";\n",
       "  float: left;\n",
       "  margin-right: 0.25em;\n",
       "  color: var(--sklearn-color-icon);\n",
       "}\n",
       "\n",
       "#sk-container-id-1 label.sk-toggleable__label-arrow:hover:before {\n",
       "  color: var(--sklearn-color-text);\n",
       "}\n",
       "\n",
       "/* Toggleable content - dropdown */\n",
       "\n",
       "#sk-container-id-1 div.sk-toggleable__content {\n",
       "  max-height: 0;\n",
       "  max-width: 0;\n",
       "  overflow: hidden;\n",
       "  text-align: left;\n",
       "  /* unfitted */\n",
       "  background-color: var(--sklearn-color-unfitted-level-0);\n",
       "}\n",
       "\n",
       "#sk-container-id-1 div.sk-toggleable__content.fitted {\n",
       "  /* fitted */\n",
       "  background-color: var(--sklearn-color-fitted-level-0);\n",
       "}\n",
       "\n",
       "#sk-container-id-1 div.sk-toggleable__content pre {\n",
       "  margin: 0.2em;\n",
       "  border-radius: 0.25em;\n",
       "  color: var(--sklearn-color-text);\n",
       "  /* unfitted */\n",
       "  background-color: var(--sklearn-color-unfitted-level-0);\n",
       "}\n",
       "\n",
       "#sk-container-id-1 div.sk-toggleable__content.fitted pre {\n",
       "  /* unfitted */\n",
       "  background-color: var(--sklearn-color-fitted-level-0);\n",
       "}\n",
       "\n",
       "#sk-container-id-1 input.sk-toggleable__control:checked~div.sk-toggleable__content {\n",
       "  /* Expand drop-down */\n",
       "  max-height: 200px;\n",
       "  max-width: 100%;\n",
       "  overflow: auto;\n",
       "}\n",
       "\n",
       "#sk-container-id-1 input.sk-toggleable__control:checked~label.sk-toggleable__label-arrow:before {\n",
       "  content: \"▾\";\n",
       "}\n",
       "\n",
       "/* Pipeline/ColumnTransformer-specific style */\n",
       "\n",
       "#sk-container-id-1 div.sk-label input.sk-toggleable__control:checked~label.sk-toggleable__label {\n",
       "  color: var(--sklearn-color-text);\n",
       "  background-color: var(--sklearn-color-unfitted-level-2);\n",
       "}\n",
       "\n",
       "#sk-container-id-1 div.sk-label.fitted input.sk-toggleable__control:checked~label.sk-toggleable__label {\n",
       "  background-color: var(--sklearn-color-fitted-level-2);\n",
       "}\n",
       "\n",
       "/* Estimator-specific style */\n",
       "\n",
       "/* Colorize estimator box */\n",
       "#sk-container-id-1 div.sk-estimator input.sk-toggleable__control:checked~label.sk-toggleable__label {\n",
       "  /* unfitted */\n",
       "  background-color: var(--sklearn-color-unfitted-level-2);\n",
       "}\n",
       "\n",
       "#sk-container-id-1 div.sk-estimator.fitted input.sk-toggleable__control:checked~label.sk-toggleable__label {\n",
       "  /* fitted */\n",
       "  background-color: var(--sklearn-color-fitted-level-2);\n",
       "}\n",
       "\n",
       "#sk-container-id-1 div.sk-label label.sk-toggleable__label,\n",
       "#sk-container-id-1 div.sk-label label {\n",
       "  /* The background is the default theme color */\n",
       "  color: var(--sklearn-color-text-on-default-background);\n",
       "}\n",
       "\n",
       "/* On hover, darken the color of the background */\n",
       "#sk-container-id-1 div.sk-label:hover label.sk-toggleable__label {\n",
       "  color: var(--sklearn-color-text);\n",
       "  background-color: var(--sklearn-color-unfitted-level-2);\n",
       "}\n",
       "\n",
       "/* Label box, darken color on hover, fitted */\n",
       "#sk-container-id-1 div.sk-label.fitted:hover label.sk-toggleable__label.fitted {\n",
       "  color: var(--sklearn-color-text);\n",
       "  background-color: var(--sklearn-color-fitted-level-2);\n",
       "}\n",
       "\n",
       "/* Estimator label */\n",
       "\n",
       "#sk-container-id-1 div.sk-label label {\n",
       "  font-family: monospace;\n",
       "  font-weight: bold;\n",
       "  display: inline-block;\n",
       "  line-height: 1.2em;\n",
       "}\n",
       "\n",
       "#sk-container-id-1 div.sk-label-container {\n",
       "  text-align: center;\n",
       "}\n",
       "\n",
       "/* Estimator-specific */\n",
       "#sk-container-id-1 div.sk-estimator {\n",
       "  font-family: monospace;\n",
       "  border: 1px dotted var(--sklearn-color-border-box);\n",
       "  border-radius: 0.25em;\n",
       "  box-sizing: border-box;\n",
       "  margin-bottom: 0.5em;\n",
       "  /* unfitted */\n",
       "  background-color: var(--sklearn-color-unfitted-level-0);\n",
       "}\n",
       "\n",
       "#sk-container-id-1 div.sk-estimator.fitted {\n",
       "  /* fitted */\n",
       "  background-color: var(--sklearn-color-fitted-level-0);\n",
       "}\n",
       "\n",
       "/* on hover */\n",
       "#sk-container-id-1 div.sk-estimator:hover {\n",
       "  /* unfitted */\n",
       "  background-color: var(--sklearn-color-unfitted-level-2);\n",
       "}\n",
       "\n",
       "#sk-container-id-1 div.sk-estimator.fitted:hover {\n",
       "  /* fitted */\n",
       "  background-color: var(--sklearn-color-fitted-level-2);\n",
       "}\n",
       "\n",
       "/* Specification for estimator info (e.g. \"i\" and \"?\") */\n",
       "\n",
       "/* Common style for \"i\" and \"?\" */\n",
       "\n",
       ".sk-estimator-doc-link,\n",
       "a:link.sk-estimator-doc-link,\n",
       "a:visited.sk-estimator-doc-link {\n",
       "  float: right;\n",
       "  font-size: smaller;\n",
       "  line-height: 1em;\n",
       "  font-family: monospace;\n",
       "  background-color: var(--sklearn-color-background);\n",
       "  border-radius: 1em;\n",
       "  height: 1em;\n",
       "  width: 1em;\n",
       "  text-decoration: none !important;\n",
       "  margin-left: 1ex;\n",
       "  /* unfitted */\n",
       "  border: var(--sklearn-color-unfitted-level-1) 1pt solid;\n",
       "  color: var(--sklearn-color-unfitted-level-1);\n",
       "}\n",
       "\n",
       ".sk-estimator-doc-link.fitted,\n",
       "a:link.sk-estimator-doc-link.fitted,\n",
       "a:visited.sk-estimator-doc-link.fitted {\n",
       "  /* fitted */\n",
       "  border: var(--sklearn-color-fitted-level-1) 1pt solid;\n",
       "  color: var(--sklearn-color-fitted-level-1);\n",
       "}\n",
       "\n",
       "/* On hover */\n",
       "div.sk-estimator:hover .sk-estimator-doc-link:hover,\n",
       ".sk-estimator-doc-link:hover,\n",
       "div.sk-label-container:hover .sk-estimator-doc-link:hover,\n",
       ".sk-estimator-doc-link:hover {\n",
       "  /* unfitted */\n",
       "  background-color: var(--sklearn-color-unfitted-level-3);\n",
       "  color: var(--sklearn-color-background);\n",
       "  text-decoration: none;\n",
       "}\n",
       "\n",
       "div.sk-estimator.fitted:hover .sk-estimator-doc-link.fitted:hover,\n",
       ".sk-estimator-doc-link.fitted:hover,\n",
       "div.sk-label-container:hover .sk-estimator-doc-link.fitted:hover,\n",
       ".sk-estimator-doc-link.fitted:hover {\n",
       "  /* fitted */\n",
       "  background-color: var(--sklearn-color-fitted-level-3);\n",
       "  color: var(--sklearn-color-background);\n",
       "  text-decoration: none;\n",
       "}\n",
       "\n",
       "/* Span, style for the box shown on hovering the info icon */\n",
       ".sk-estimator-doc-link span {\n",
       "  display: none;\n",
       "  z-index: 9999;\n",
       "  position: relative;\n",
       "  font-weight: normal;\n",
       "  right: .2ex;\n",
       "  padding: .5ex;\n",
       "  margin: .5ex;\n",
       "  width: min-content;\n",
       "  min-width: 20ex;\n",
       "  max-width: 50ex;\n",
       "  color: var(--sklearn-color-text);\n",
       "  box-shadow: 2pt 2pt 4pt #999;\n",
       "  /* unfitted */\n",
       "  background: var(--sklearn-color-unfitted-level-0);\n",
       "  border: .5pt solid var(--sklearn-color-unfitted-level-3);\n",
       "}\n",
       "\n",
       ".sk-estimator-doc-link.fitted span {\n",
       "  /* fitted */\n",
       "  background: var(--sklearn-color-fitted-level-0);\n",
       "  border: var(--sklearn-color-fitted-level-3);\n",
       "}\n",
       "\n",
       ".sk-estimator-doc-link:hover span {\n",
       "  display: block;\n",
       "}\n",
       "\n",
       "/* \"?\"-specific style due to the `<a>` HTML tag */\n",
       "\n",
       "#sk-container-id-1 a.estimator_doc_link {\n",
       "  float: right;\n",
       "  font-size: 1rem;\n",
       "  line-height: 1em;\n",
       "  font-family: monospace;\n",
       "  background-color: var(--sklearn-color-background);\n",
       "  border-radius: 1rem;\n",
       "  height: 1rem;\n",
       "  width: 1rem;\n",
       "  text-decoration: none;\n",
       "  /* unfitted */\n",
       "  color: var(--sklearn-color-unfitted-level-1);\n",
       "  border: var(--sklearn-color-unfitted-level-1) 1pt solid;\n",
       "}\n",
       "\n",
       "#sk-container-id-1 a.estimator_doc_link.fitted {\n",
       "  /* fitted */\n",
       "  border: var(--sklearn-color-fitted-level-1) 1pt solid;\n",
       "  color: var(--sklearn-color-fitted-level-1);\n",
       "}\n",
       "\n",
       "/* On hover */\n",
       "#sk-container-id-1 a.estimator_doc_link:hover {\n",
       "  /* unfitted */\n",
       "  background-color: var(--sklearn-color-unfitted-level-3);\n",
       "  color: var(--sklearn-color-background);\n",
       "  text-decoration: none;\n",
       "}\n",
       "\n",
       "#sk-container-id-1 a.estimator_doc_link.fitted:hover {\n",
       "  /* fitted */\n",
       "  background-color: var(--sklearn-color-fitted-level-3);\n",
       "}\n",
       "</style><div id=\"sk-container-id-1\" class=\"sk-top-container\"><div class=\"sk-text-repr-fallback\"><pre>GridSearchCV(cv=5, estimator=SGDClassifier(random_state=420420420), n_jobs=3,\n",
       "             param_grid={&#x27;alpha&#x27;: array([0.01234568]), &#x27;average&#x27;: [True, False],\n",
       "                         &#x27;fit_intercept&#x27;: [True],\n",
       "                         &#x27;l1_ratio&#x27;: [0.05, 0.06, 0.07, 0.08, 0.09, 0.1, 0.12,\n",
       "                                      0.13, 0.14, 0.15, 0.2],\n",
       "                         &#x27;loss&#x27;: [&#x27;log_loss&#x27;, &#x27;hinge&#x27;, &#x27;modified_huber&#x27;],\n",
       "                         &#x27;n_iter_no_change&#x27;: [5],\n",
       "                         &#x27;penalty&#x27;: [&#x27;l2&#x27;, &#x27;l1&#x27;, &#x27;elasticnet&#x27;]},\n",
       "             verbose=1)</pre><b>In a Jupyter environment, please rerun this cell to show the HTML representation or trust the notebook. <br />On GitHub, the HTML representation is unable to render, please try loading this page with nbviewer.org.</b></div><div class=\"sk-container\" hidden><div class=\"sk-item sk-dashed-wrapped\"><div class=\"sk-label-container\"><div class=\"sk-label fitted sk-toggleable\"><input class=\"sk-toggleable__control sk-hidden--visually\" id=\"sk-estimator-id-1\" type=\"checkbox\" ><label for=\"sk-estimator-id-1\" class=\"sk-toggleable__label fitted sk-toggleable__label-arrow fitted\">&nbsp;&nbsp;GridSearchCV<a class=\"sk-estimator-doc-link fitted\" rel=\"noreferrer\" target=\"_blank\" href=\"https://scikit-learn.org/1.4/modules/generated/sklearn.model_selection.GridSearchCV.html\">?<span>Documentation for GridSearchCV</span></a><span class=\"sk-estimator-doc-link fitted\">i<span>Fitted</span></span></label><div class=\"sk-toggleable__content fitted\"><pre>GridSearchCV(cv=5, estimator=SGDClassifier(random_state=420420420), n_jobs=3,\n",
       "             param_grid={&#x27;alpha&#x27;: array([0.01234568]), &#x27;average&#x27;: [True, False],\n",
       "                         &#x27;fit_intercept&#x27;: [True],\n",
       "                         &#x27;l1_ratio&#x27;: [0.05, 0.06, 0.07, 0.08, 0.09, 0.1, 0.12,\n",
       "                                      0.13, 0.14, 0.15, 0.2],\n",
       "                         &#x27;loss&#x27;: [&#x27;log_loss&#x27;, &#x27;hinge&#x27;, &#x27;modified_huber&#x27;],\n",
       "                         &#x27;n_iter_no_change&#x27;: [5],\n",
       "                         &#x27;penalty&#x27;: [&#x27;l2&#x27;, &#x27;l1&#x27;, &#x27;elasticnet&#x27;]},\n",
       "             verbose=1)</pre></div> </div></div><div class=\"sk-parallel\"><div class=\"sk-parallel-item\"><div class=\"sk-item\"><div class=\"sk-label-container\"><div class=\"sk-label fitted sk-toggleable\"><input class=\"sk-toggleable__control sk-hidden--visually\" id=\"sk-estimator-id-2\" type=\"checkbox\" ><label for=\"sk-estimator-id-2\" class=\"sk-toggleable__label fitted sk-toggleable__label-arrow fitted\">estimator: SGDClassifier</label><div class=\"sk-toggleable__content fitted\"><pre>SGDClassifier(random_state=420420420)</pre></div> </div></div><div class=\"sk-serial\"><div class=\"sk-item\"><div class=\"sk-estimator fitted sk-toggleable\"><input class=\"sk-toggleable__control sk-hidden--visually\" id=\"sk-estimator-id-3\" type=\"checkbox\" ><label for=\"sk-estimator-id-3\" class=\"sk-toggleable__label fitted sk-toggleable__label-arrow fitted\">&nbsp;SGDClassifier<a class=\"sk-estimator-doc-link fitted\" rel=\"noreferrer\" target=\"_blank\" href=\"https://scikit-learn.org/1.4/modules/generated/sklearn.linear_model.SGDClassifier.html\">?<span>Documentation for SGDClassifier</span></a></label><div class=\"sk-toggleable__content fitted\"><pre>SGDClassifier(random_state=420420420)</pre></div> </div></div></div></div></div></div></div></div></div>"
      ],
      "text/plain": [
       "GridSearchCV(cv=5, estimator=SGDClassifier(random_state=420420420), n_jobs=3,\n",
       "             param_grid={'alpha': array([0.01234568]), 'average': [True, False],\n",
       "                         'fit_intercept': [True],\n",
       "                         'l1_ratio': [0.05, 0.06, 0.07, 0.08, 0.09, 0.1, 0.12,\n",
       "                                      0.13, 0.14, 0.15, 0.2],\n",
       "                         'loss': ['log_loss', 'hinge', 'modified_huber'],\n",
       "                         'n_iter_no_change': [5],\n",
       "                         'penalty': ['l2', 'l1', 'elasticnet']},\n",
       "             verbose=1)"
      ]
     },
     "execution_count": 18,
     "metadata": {},
     "output_type": "execute_result"
    }
   ],
   "source": [
    "\n",
    "#sgdc_gs = SGDClassifier(alpha=0.0001, average=False, fit_intercept=False, l1_ratio=0.05, loss='modified_huber', penalty='l1', random_state=420420)\n",
    "#sgdc_gs.fit(XT,YT)\n",
    "\n",
    "\n",
    "sgdc_params = {\n",
    "    #'loss':['log_loss','hinge', 'modified_huber'],\n",
    "       'loss':['log_loss', 'hinge', 'modified_huber'],\n",
    "\n",
    "    'penalty':['l2', 'l1', 'elasticnet'],\n",
    "    'n_iter_no_change':[5],\n",
    "    'alpha':np.logspace( -2, -1, 1, 2, 9),\n",
    "    'l1_ratio':[0.05,0.06,0.07,0.08,0.09,0.1,0.12,0.13,0.14,0.15,0.2],\n",
    "  'average': [True, False],\n",
    "    'fit_intercept':[ True]\n",
    "}\n",
    "\n",
    "sgdc = SGDClassifier(random_state=420420420)\n",
    "sgdc_gs = GridSearchCV(sgdc, sgdc_params, cv=5, verbose=1, n_jobs=3)\n",
    "sgdc_gs.fit(XT,YT)\n"
   ]
  },
  {
   "cell_type": "code",
   "execution_count": 19,
   "id": "90e7e6f6-efde-47b8-b46a-51a59fa70b31",
   "metadata": {},
   "outputs": [
    {
     "name": "stdout",
     "output_type": "stream",
     "text": [
      "              precision    recall  f1-score   support\n",
      "\n",
      "       False       0.93      0.96      0.94       251\n",
      "        True       0.96      0.92      0.94       251\n",
      "\n",
      "    accuracy                           0.94       502\n",
      "   macro avg       0.94      0.94      0.94       502\n",
      "weighted avg       0.94      0.94      0.94       502\n",
      "\n"
     ]
    }
   ],
   "source": [
    "from sklearn.metrics import roc_auc_score\n",
    "from sklearn.metrics import confusion_matrix\n",
    "from sklearn.metrics import ConfusionMatrixDisplay\n",
    "\n",
    "train_pred = sgdc_gs.predict(XT)\n",
    "print(metrics.classification_report(YT,train_pred))\n",
    "\n",
    "\n",
    "#print(roc_auc_score(YT, sgdc_gs.predict_proba(XT)[:, 1]))\n",
    "\n",
    "#cm =confusion_matrix(YT, train_pred)\n",
    "#a =ConfusionMatrixDisplay(confusion_matrix=cm)\n",
    "#a.plot()"
   ]
  },
  {
   "cell_type": "code",
   "execution_count": 20,
   "id": "0a0105c4-9575-4daf-8d5d-2f5f267c8829",
   "metadata": {},
   "outputs": [
    {
     "name": "stdout",
     "output_type": "stream",
     "text": [
      "              precision    recall  f1-score   support\n",
      "\n",
      "       False       0.98      0.96      0.97       230\n",
      "        True       0.86      0.92      0.89        61\n",
      "\n",
      "    accuracy                           0.95       291\n",
      "   macro avg       0.92      0.94      0.93       291\n",
      "weighted avg       0.95      0.95      0.95       291\n",
      "\n"
     ]
    },
    {
     "data": {
      "text/plain": [
       "311     False\n",
       "322     False\n",
       "347     False\n",
       "358     False\n",
       "400     False\n",
       "        ...  \n",
       "4308    False\n",
       "4312    False\n",
       "4328    False\n",
       "4340    False\n",
       "4350    False\n",
       "Name: explicitcoding, Length: 291, dtype: bool"
      ]
     },
     "execution_count": 20,
     "metadata": {},
     "output_type": "execute_result"
    }
   ],
   "source": [
    "\n",
    "Xtest = Xtest.astype(str)\n",
    "Xtestt =  tf_vect.transform(Xtest)\n",
    "test_pred = sgdc_gs.predict(Xtestt)\n",
    "\n",
    "print(metrics.classification_report(ytest,test_pred))\n",
    "\n",
    "#cm =confusion_matrix(ytest, test_pred)\n",
    "#a =ConfusionMatrixDisplay(confusion_matrix=cm)\n",
    "#a.plot()\n",
    "\n",
    "ytest"
   ]
  },
  {
   "cell_type": "code",
   "execution_count": 21,
   "id": "59ac6694-60b8-41f8-b654-7ae3687d7435",
   "metadata": {},
   "outputs": [
    {
     "name": "stdout",
     "output_type": "stream",
     "text": [
      "0.9728439059158944\n"
     ]
    },
    {
     "name": "stderr",
     "output_type": "stream",
     "text": [
      "The PostScript backend does not support transparency; partially transparent artists will be rendered opaque.\n"
     ]
    },
    {
     "data": {
      "image/png": "[encoded data removed]",
      "text/plain": [
       "<Figure size 640x480 with 1 Axes>"
      ]
     },
     "metadata": {},
     "output_type": "display_data"
    },
    {
     "data": {
      "text/plain": [
       "<Figure size 640x480 with 0 Axes>"
      ]
     },
     "metadata": {},
     "output_type": "display_data"
    },
    {
     "data": {
      "image/png": "[encoded data removed]",
      "text/plain": [
       "<Figure size 640x480 with 1 Axes>"
      ]
     },
     "metadata": {},
     "output_type": "display_data"
    },
    {
     "name": "stderr",
     "output_type": "stream",
     "text": [
      "The PostScript backend does not support transparency; partially transparent artists will be rendered opaque.\n"
     ]
    },
    {
     "data": {
      "image/png": "[encoded data removed]",
      "text/plain": [
       "<Figure size 640x480 with 1 Axes>"
      ]
     },
     "metadata": {},
     "output_type": "display_data"
    },
    {
     "data": {
      "text/plain": [
       "<Figure size 640x480 with 0 Axes>"
      ]
     },
     "metadata": {},
     "output_type": "display_data"
    },
    {
     "data": {
      "image/png": "[encoded data removed]",
      "text/plain": [
       "<Figure size 640x480 with 1 Axes>"
      ]
     },
     "metadata": {},
     "output_type": "display_data"
    }
   ],
   "source": [
    "import matplotlib.pyplot as plt\n",
    "from sklearn.metrics import roc_auc_score\n",
    "print(roc_auc_score(ytest, sgdc_gs.predict_proba(Xtestt)[:, 1]))\n",
    "\n",
    "from sklearn.metrics import PrecisionRecallDisplay\n",
    "from sklearn.metrics import RocCurveDisplay\n",
    "display = PrecisionRecallDisplay.from_estimator(\n",
    "    sgdc_gs, Xtestt, ytest, name=\"SGDC\"\n",
    ")\n",
    "_ = display.ax_.set_title(\"2-class Precision-Recall curve\")\n",
    "\n",
    "plt.figure()\n",
    "display.plot()\n",
    "\n",
    "\n",
    "# Save te plot as an EPS file\n",
    "plt.title('2-class Precision-Recall curve')\n",
    "plt.savefig('pr_curve.eps', format='eps')\n",
    "plt.show()\n",
    "\n",
    "from sklearn import metrics\n",
    "\n",
    "roc_display = RocCurveDisplay.from_predictions( ytest, sgdc_gs.predict_proba(Xtestt)[:, 1])\n",
    "\n",
    "# Create a new figure\n",
    "plt.figure()\n",
    "roc_display.plot()\n",
    "plt.title('Receiver Operating Characteristic')\n",
    "\n",
    "\n",
    "# Save the plot as an EPS file\n",
    "plt.savefig('roc_curve.eps', format='eps')\n",
    "plt.show()"
   ]
  },
  {
   "cell_type": "code",
   "execution_count": 22,
   "id": "6f21227e-964e-4d90-8365-f53d60fe11d2",
   "metadata": {},
   "outputs": [
    {
     "data": {
      "text/plain": [
       "<291x307 sparse matrix of type '<class 'numpy.float64'>'\n",
       "\twith 961 stored elements in Compressed Sparse Row format>"
      ]
     },
     "execution_count": 22,
     "metadata": {},
     "output_type": "execute_result"
    }
   ],
   "source": [
    "from sklearn.metrics import precision_recall_curve\n",
    "p, r, t = precision_recall_curve(ytest, sgdc_gs.predict_proba(Xtestt)[:, 1])\n",
    "t\n",
    "Xtestt"
   ]
  },
  {
   "cell_type": "code",
   "execution_count": 23,
   "id": "2210af3d-3a8b-4ba8-a7b9-7e04b7d77e77",
   "metadata": {},
   "outputs": [
    {
     "name": "stdout",
     "output_type": "stream",
     "text": [
      "False    340\n",
      "True      80\n",
      "Name: a2, dtype: int64\n"
     ]
    }
   ],
   "source": [
    "tdf = pd.read_csv('../2eval/combined.tsv',sep='\\t')\n",
    "adf = pd.read_csv('../ext_sample.tsv', sep='\\t')\n",
    "adf['doi'] = adf['k']\n",
    "\n",
    "adf\n",
    "tdf = pd.merge(tdf, adf, how='left', on = 'doi')\n",
    "tdf2=tdf\n",
    "\n",
    "tdf['a3'].value_counts()\n",
    "#print(len(tdf))\n",
    "#tdf = tdf[tdf['a1'] == tdf['a2']]\n",
    "\n",
    "tdf = tdf.replace({None: False, 'no': False, 'yes': True})\n",
    "tdf2 = tdf2.replace({None: False, 'no': False, 'yes': True})\n",
    "\n",
    "print(tdf['a2'].value_counts())"
   ]
  },
  {
   "cell_type": "code",
   "execution_count": 24,
   "id": "046449d5-5fa4-409f-89eb-e490f4f2de8f",
   "metadata": {},
   "outputs": [
    {
     "data": {
      "text/plain": [
       "0    70\n",
       "1    70\n",
       "2    70\n",
       "3    70\n",
       "4    70\n",
       "5    70\n",
       "Name: group, dtype: int64"
      ]
     },
     "execution_count": 24,
     "metadata": {},
     "output_type": "execute_result"
    }
   ],
   "source": [
    "tdf['group'].value_counts()"
   ]
  },
  {
   "cell_type": "code",
   "execution_count": 25,
   "id": "8071e722-745d-4978-a16f-71b572c60a71",
   "metadata": {},
   "outputs": [
    {
     "name": "stdout",
     "output_type": "stream",
     "text": [
      "\n",
      "Group: 0\n",
      "a1/a2: 0.8325358851674641\n",
      "a1/alg: 0.8113207547169812\n",
      "a2/alg: 0.7422680412371134\n",
      "\n",
      "Group: 1\n"
     ]
    },
    {
     "name": "stderr",
     "output_type": "stream",
     "text": [
      "/tmp/ipykernel_3416/2544093234.py:7: SettingWithCopyWarning: \n",
      "A value is trying to be set on a copy of a slice from a DataFrame.\n",
      "Try using .loc[row_indexer,col_indexer] = value instead\n",
      "\n",
      "See the caveats in the documentation: https://pandas.pydata.org/pandas-docs/stable/user_guide/indexing.html#returning-a-view-versus-a-copy\n",
      "  ttdf['text'] = ttdf['text'].astype(str)\n",
      "/tmp/ipykernel_3416/2544093234.py:7: SettingWithCopyWarning: \n",
      "A value is trying to be set on a copy of a slice from a DataFrame.\n",
      "Try using .loc[row_indexer,col_indexer] = value instead\n",
      "\n",
      "See the caveats in the documentation: https://pandas.pydata.org/pandas-docs/stable/user_guide/indexing.html#returning-a-view-versus-a-copy\n",
      "  ttdf['text'] = ttdf['text'].astype(str)\n"
     ]
    },
    {
     "name": "stdout",
     "output_type": "stream",
     "text": [
      "a1/a2: 0.49612403100775193\n",
      "a1/alg: 0.5112781954887218\n",
      "a2/alg: 0.9056603773584906\n",
      "\n",
      "Group: 2\n",
      "a1/a2: 0.9337748344370861\n",
      "a1/alg: 0.8644724104549855\n",
      "a2/alg: 0.7902097902097902\n",
      "\n",
      "Group: 3\n"
     ]
    },
    {
     "name": "stderr",
     "output_type": "stream",
     "text": [
      "/tmp/ipykernel_3416/2544093234.py:7: SettingWithCopyWarning: \n",
      "A value is trying to be set on a copy of a slice from a DataFrame.\n",
      "Try using .loc[row_indexer,col_indexer] = value instead\n",
      "\n",
      "See the caveats in the documentation: https://pandas.pydata.org/pandas-docs/stable/user_guide/indexing.html#returning-a-view-versus-a-copy\n",
      "  ttdf['text'] = ttdf['text'].astype(str)\n",
      "/tmp/ipykernel_3416/2544093234.py:7: SettingWithCopyWarning: \n",
      "A value is trying to be set on a copy of a slice from a DataFrame.\n",
      "Try using .loc[row_indexer,col_indexer] = value instead\n",
      "\n",
      "See the caveats in the documentation: https://pandas.pydata.org/pandas-docs/stable/user_guide/indexing.html#returning-a-view-versus-a-copy\n",
      "  ttdf['text'] = ttdf['text'].astype(str)\n"
     ]
    },
    {
     "name": "stdout",
     "output_type": "stream",
     "text": [
      "a1/a2: 0.8923076923076924\n",
      "a1/alg: 0.8320000000000001\n",
      "a2/alg: 0.8439821693907875\n",
      "\n",
      "Group: 4\n",
      "a1/a2: 0.8698884758364313\n",
      "a1/alg: 0.8018120045300113\n",
      "a2/alg: 0.7466827503015682\n",
      "\n",
      "Group: 5\n"
     ]
    },
    {
     "name": "stderr",
     "output_type": "stream",
     "text": [
      "/tmp/ipykernel_3416/2544093234.py:7: SettingWithCopyWarning: \n",
      "A value is trying to be set on a copy of a slice from a DataFrame.\n",
      "Try using .loc[row_indexer,col_indexer] = value instead\n",
      "\n",
      "See the caveats in the documentation: https://pandas.pydata.org/pandas-docs/stable/user_guide/indexing.html#returning-a-view-versus-a-copy\n",
      "  ttdf['text'] = ttdf['text'].astype(str)\n",
      "/tmp/ipykernel_3416/2544093234.py:7: SettingWithCopyWarning: \n",
      "A value is trying to be set on a copy of a slice from a DataFrame.\n",
      "Try using .loc[row_indexer,col_indexer] = value instead\n",
      "\n",
      "See the caveats in the documentation: https://pandas.pydata.org/pandas-docs/stable/user_guide/indexing.html#returning-a-view-versus-a-copy\n",
      "  ttdf['text'] = ttdf['text'].astype(str)\n"
     ]
    },
    {
     "name": "stdout",
     "output_type": "stream",
     "text": [
      "a1/a2: 0.722662440570523\n",
      "a1/alg: 0.6067415730337078\n",
      "a2/alg: 0.8698884758364313\n"
     ]
    }
   ],
   "source": [
    "from sklearn.metrics import cohen_kappa_score \n",
    "for i in range(6):\n",
    "    print('')\n",
    "    print('Group: ' + str(i))\n",
    "    \n",
    "    ttdf = tdf[tdf['group'] == i]\n",
    "    ttdf['text'] = ttdf['text'].astype(str)\n",
    "    FTest =  tf_vect.transform(ttdf['text'])\n",
    "    test_pred = sgdc_gs.predict(FTest)\n",
    "    \n",
    "    print('a1/a2: ' + str(cohen_kappa_score(ttdf['a1'], ttdf['a2'])))\n",
    "    \n",
    "    print('a1/alg: ' + str(cohen_kappa_score(ttdf['a1'], test_pred)))\n",
    "    \n",
    "    print('a2/alg: ' + str(cohen_kappa_score(ttdf['a2'], test_pred)))"
   ]
  },
  {
   "cell_type": "code",
   "execution_count": 26,
   "id": "11f7d0fe-4d2f-46f6-8ff1-1fb1955068e5",
   "metadata": {},
   "outputs": [
    {
     "name": "stdout",
     "output_type": "stream",
     "text": [
      "\n",
      "Group: 0\n",
      "a1/gt: 0.9479940564635958\n",
      "a2/gt: 0.8835274542429284\n",
      "alg/gt: 0.854368932038835\n",
      "\n",
      "Group: 1\n"
     ]
    },
    {
     "name": "stderr",
     "output_type": "stream",
     "text": [
      "/tmp/ipykernel_3416/617573765.py:6: SettingWithCopyWarning: \n",
      "A value is trying to be set on a copy of a slice from a DataFrame.\n",
      "Try using .loc[row_indexer,col_indexer] = value instead\n",
      "\n",
      "See the caveats in the documentation: https://pandas.pydata.org/pandas-docs/stable/user_guide/indexing.html#returning-a-view-versus-a-copy\n",
      "  ttdf['text'] = ttdf['text'].astype(str)\n",
      "/tmp/ipykernel_3416/617573765.py:6: SettingWithCopyWarning: \n",
      "A value is trying to be set on a copy of a slice from a DataFrame.\n",
      "Try using .loc[row_indexer,col_indexer] = value instead\n",
      "\n",
      "See the caveats in the documentation: https://pandas.pydata.org/pandas-docs/stable/user_guide/indexing.html#returning-a-view-versus-a-copy\n",
      "  ttdf['text'] = ttdf['text'].astype(str)\n"
     ]
    },
    {
     "name": "stdout",
     "output_type": "stream",
     "text": [
      "a1/gt: 0.5419847328244276\n",
      "a2/gt: 0.9513212795549374\n",
      "alg/gt: 0.9541284403669725\n",
      "\n",
      "Group: 2\n",
      "a1/gt: 1.0\n",
      "a2/gt: 0.9337748344370861\n",
      "alg/gt: 0.8644724104549855\n",
      "\n",
      "Group: 3\n"
     ]
    },
    {
     "name": "stderr",
     "output_type": "stream",
     "text": [
      "/tmp/ipykernel_3416/617573765.py:6: SettingWithCopyWarning: \n",
      "A value is trying to be set on a copy of a slice from a DataFrame.\n",
      "Try using .loc[row_indexer,col_indexer] = value instead\n",
      "\n",
      "See the caveats in the documentation: https://pandas.pydata.org/pandas-docs/stable/user_guide/indexing.html#returning-a-view-versus-a-copy\n",
      "  ttdf['text'] = ttdf['text'].astype(str)\n",
      "/tmp/ipykernel_3416/617573765.py:6: SettingWithCopyWarning: \n",
      "A value is trying to be set on a copy of a slice from a DataFrame.\n",
      "Try using .loc[row_indexer,col_indexer] = value instead\n",
      "\n",
      "See the caveats in the documentation: https://pandas.pydata.org/pandas-docs/stable/user_guide/indexing.html#returning-a-view-versus-a-copy\n",
      "  ttdf['text'] = ttdf['text'].astype(str)\n"
     ]
    },
    {
     "name": "stdout",
     "output_type": "stream",
     "text": [
      "a1/gt: 0.8923076923076924\n",
      "a2/gt: 1.0\n",
      "alg/gt: 0.8439821693907875\n",
      "\n",
      "Group: 4\n",
      "a1/gt: 0.9585798816568047\n",
      "a2/gt: 0.910828025477707\n",
      "alg/gt: 0.838150289017341\n",
      "\n",
      "Group: 5\n"
     ]
    },
    {
     "name": "stderr",
     "output_type": "stream",
     "text": [
      "/tmp/ipykernel_3416/617573765.py:6: SettingWithCopyWarning: \n",
      "A value is trying to be set on a copy of a slice from a DataFrame.\n",
      "Try using .loc[row_indexer,col_indexer] = value instead\n",
      "\n",
      "See the caveats in the documentation: https://pandas.pydata.org/pandas-docs/stable/user_guide/indexing.html#returning-a-view-versus-a-copy\n",
      "  ttdf['text'] = ttdf['text'].astype(str)\n",
      "/tmp/ipykernel_3416/617573765.py:6: SettingWithCopyWarning: \n",
      "A value is trying to be set on a copy of a slice from a DataFrame.\n",
      "Try using .loc[row_indexer,col_indexer] = value instead\n",
      "\n",
      "See the caveats in the documentation: https://pandas.pydata.org/pandas-docs/stable/user_guide/indexing.html#returning-a-view-versus-a-copy\n",
      "  ttdf['text'] = ttdf['text'].astype(str)\n"
     ]
    },
    {
     "name": "stdout",
     "output_type": "stream",
     "text": [
      "a1/gt: 0.722662440570523\n",
      "a2/gt: 1.0\n",
      "alg/gt: 0.8698884758364313\n"
     ]
    }
   ],
   "source": [
    "for i in range(6):\n",
    "    print('')\n",
    "    print('Group: ' + str(i))\n",
    "    \n",
    "    ttdf = tdf[tdf['group'] == i]\n",
    "    ttdf['text'] = ttdf['text'].astype(str)\n",
    "    FTest =  tf_vect.transform(ttdf['text'])\n",
    "    test_pred = sgdc_gs.predict(FTest)\n",
    "    \n",
    "    print('a1/gt: ' + str(cohen_kappa_score(ttdf['a1'], ttdf['explicitcoding'])))\n",
    "    \n",
    "    print('a2/gt: ' + str(cohen_kappa_score(ttdf['a2'], ttdf['explicitcoding'])))\n",
    "    \n",
    "    print('alg/gt: ' + str(cohen_kappa_score(test_pred, ttdf['explicitcoding'])))"
   ]
  },
  {
   "cell_type": "code",
   "execution_count": 27,
   "id": "d088703e-aa5a-4237-8905-1cb5678afec1",
   "metadata": {},
   "outputs": [
    {
     "name": "stdout",
     "output_type": "stream",
     "text": [
      "0.8720579860257919\n",
      "8.525305550383797e-132\n",
      "0.8498892006291905\n",
      "2.316770816098645e-118\n",
      "0.9490039616723229\n",
      "1.147320371797668e-211\n",
      "\n",
      "0.8166259168704156\n",
      "0.8717034925160371\n",
      "0.8496932515337423\n",
      "0.9477054429028815\n"
     ]
    }
   ],
   "source": [
    "from sklearn.metrics import cohen_kappa_score\n",
    "\n",
    "\n",
    "\n",
    "tdf['text'] = tdf['text'].astype(str)\n",
    "FTest =  tf_vect.transform(tdf['text'])\n",
    "test_pred = sgdc_gs.predict(FTest)\n",
    "\n",
    "from scipy import stats\n",
    "ac, ap = stats.pointbiserialr(test_pred, tdf2['explicitcoding'])\n",
    "print(ac)\n",
    "print(ap)\n",
    "\n",
    "ac, ap = stats.pointbiserialr(tdf2['a1'], tdf2['explicitcoding'])\n",
    "print(ac)\n",
    "print(ap)\n",
    "\n",
    "\n",
    "ac, ap = stats.pointbiserialr(tdf2['a2'], tdf2['explicitcoding'])\n",
    "print(ac)\n",
    "print(ap)\n",
    "\n",
    "print('')\n",
    "\n",
    "\n",
    "print(cohen_kappa_score(test_pred, tdf2['a2']))\n",
    "\n",
    "print(cohen_kappa_score(test_pred, tdf2['explicitcoding']))\n",
    "print(cohen_kappa_score(tdf2['a1'], tdf2['explicitcoding']))\n",
    "print(cohen_kappa_score(tdf2['a2'], tdf2['explicitcoding']))\n",
    "\n",
    "#print(np.corrcoef(tdf['a1'], tdf['a2'])[0,1])\n",
    "#print(metrics.classification_report(tdf2['a1'],tdf2['a2']))\n",
    "\n",
    "#print(roc_auc_score(tdf['a1'], sgdc_gs.predict_proba(FTest)[:, 1]))\n",
    "#cm =confusion_matrix(tdf['a1'], test_pred)\n",
    "#a =ConfusionMatrixDisplay(confusion_matrix=cm)\n",
    "#a.plot()"
   ]
  },
  {
   "cell_type": "code",
   "execution_count": 58,
   "id": "e4d613f6-75ec-49c2-88bb-9fc14cb607aa",
   "metadata": {},
   "outputs": [
    {
     "name": "stdout",
     "output_type": "stream",
     "text": [
      "False    3753\n",
      "True      600\n",
      "Name: hasgroundtruth, dtype: int64\n",
      "False    3689\n",
      "True       64\n",
      "Name: text, dtype: int64\n"
     ]
    }
   ],
   "source": [
    "# Load The Things\n",
    "dfa = pd.read_csv('../ext_sample.tsv', sep='\\t')\n",
    "\n",
    "print(dfa['hasgroundtruth'].value_counts())\n",
    "dfa = dfa[dfa['hasgroundtruth'] == False]\n",
    "\n",
    "print(dfa['text'].isna().value_counts())\n",
    "\n",
    "dfa = dfa[dfa['text'].isna() == False]\n",
    "dfa = dfa.replace({None: False, 'no': False, 'yes': True})\n",
    "dfd = dfa\n",
    "\n"
   ]
  },
  {
   "cell_type": "code",
   "execution_count": 30,
   "id": "80873c56-60f4-4d43-926a-0c0c73e74400",
   "metadata": {},
   "outputs": [
    {
     "name": "stdout",
     "output_type": "stream",
     "text": [
      "(3689,)\n"
     ]
    },
    {
     "data": {
      "text/plain": [
       "(array([False,  True]), array([2780,  909]))"
      ]
     },
     "execution_count": 30,
     "metadata": {},
     "output_type": "execute_result"
    }
   ],
   "source": [
    "dfa = dfa['text']\n",
    "print(dfa.shape)\n",
    "dfax =  tf_vect.transform(dfa)\n",
    "p = sgdc_gs.predict(dfax)\n",
    "\n",
    "np.unique(p, return_counts=True)"
   ]
  },
  {
   "cell_type": "code",
   "execution_count": 31,
   "id": "15ec85d8-9997-438d-9a15-fd7a9aa02270",
   "metadata": {},
   "outputs": [
    {
     "data": {
      "text/plain": [
       "array([False, False,  True, ..., False, False, False])"
      ]
     },
     "execution_count": 31,
     "metadata": {},
     "output_type": "execute_result"
    }
   ],
   "source": [
    "p"
   ]
  },
  {
   "cell_type": "code",
   "execution_count": 32,
   "id": "ebf2b4c2-0872-4461-89bc-b4a0808fe649",
   "metadata": {},
   "outputs": [
    {
     "data": {
      "image/png": "[encoded data removed]",
      "text/plain": [
       "<Figure size 1000x700 with 1 Axes>"
      ]
     },
     "metadata": {},
     "output_type": "display_data"
    }
   ],
   "source": [
    "import matplotlib\n",
    "import matplotlib.pyplot as plt\n",
    "import numpy as np\n",
    "\n",
    "plt.rcParams['figure.figsize'] = [10, 7]\n",
    "z = plt.spy(dfax,precision=0.05,markersize=2,aspect='auto', animated=True,antialiased=True,snap=True)\n"
   ]
  },
  {
   "cell_type": "code",
   "execution_count": 36,
   "id": "7cf598f6-5235-415d-a835-f67ede6edaed",
   "metadata": {},
   "outputs": [
    {
     "name": "stdout",
     "output_type": "stream",
     "text": [
      "Defaulting to user installation because normal site-packages is not writeable\n",
      "Collecting habanero\n",
      "  Downloading habanero-1.2.6-py2.py3-none-any.whl.metadata (14 kB)\n",
      "Requirement already satisfied: requests>=2.7.0 in /usr/lib/python3.12/site-packages (from habanero) (2.31.0)\n",
      "Requirement already satisfied: tqdm in /usr/lib/python3.12/site-packages (from habanero) (4.66.2)\n",
      "Requirement already satisfied: charset-normalizer<4,>=2 in /usr/lib/python3.12/site-packages (from requests>=2.7.0->habanero) (3.3.2)\n",
      "Requirement already satisfied: idna<4,>=2.5 in /usr/lib/python3.12/site-packages (from requests>=2.7.0->habanero) (3.6)\n",
      "Requirement already satisfied: urllib3<3,>=1.21.1 in /usr/lib/python3.12/site-packages (from requests>=2.7.0->habanero) (1.26.18)\n",
      "Downloading habanero-1.2.6-py2.py3-none-any.whl (30 kB)\n",
      "Installing collected packages: habanero\n",
      "Successfully installed habanero-1.2.6\n"
     ]
    }
   ],
   "source": [
    "!pip install habanero --break-system-packages"
   ]
  },
  {
   "cell_type": "code",
   "execution_count": 49,
   "id": "dce3bcab-0315-4461-9365-340fbd978b31",
   "metadata": {},
   "outputs": [
    {
     "data": {
      "text/plain": [
       "3689"
      ]
     },
     "execution_count": 49,
     "metadata": {},
     "output_type": "execute_result"
    }
   ],
   "source": [
    "len(dfd)"
   ]
  },
  {
   "cell_type": "code",
   "execution_count": 42,
   "id": "e146ef48-122d-4541-8050-22522025e236",
   "metadata": {},
   "outputs": [
    {
     "name": "stdout",
     "output_type": "stream",
     "text": [
      "got batch 0\n",
      "got batch 100\n",
      "got batch 200\n",
      "got batch 300\n",
      "got batch 400\n",
      "got batch 500\n",
      "got batch 600\n",
      "got batch 700\n",
      "got batch 800\n",
      "got batch 900\n",
      "got batch 1000\n",
      "got batch 1100\n",
      "got batch 1200\n",
      "got batch 1300\n",
      "got batch 1400\n",
      "got batch 1500\n",
      "got batch 1600\n",
      "got batch 1700\n",
      "got batch 1800\n",
      "got batch 1900\n",
      "got batch 2000\n",
      "got batch 2100\n",
      "got batch 2200\n",
      "got batch 2300\n",
      "got batch 2400\n",
      "got batch 2500\n",
      "got batch 2600\n",
      "got batch 2700\n",
      "got batch 2800\n",
      "got batch 2900\n",
      "got batch 3000\n",
      "got batch 3100\n",
      "got batch 3200\n",
      "got batch 3300\n",
      "got batch 3400\n",
      "got batch 3500\n",
      "got batch 3600\n"
     ]
    }
   ],
   "source": [
    "\n",
    "\n",
    "from habanero import Crossref\n",
    "import pprint\n",
    "def fetch_crossref_info(dois):\n",
    "    cr = Crossref()\n",
    "    extended_info = []\n",
    "\n",
    "    for i in range(0, len(dois), 100):\n",
    "        batch = dois[i:i + 100]\n",
    "        try:\n",
    "        # Fetch data for a batch of DOI\n",
    "            results = cr.works(ids=batch)\n",
    "            for item in results:\n",
    "                item = item['message']\n",
    "                info = {\n",
    "                    'doi': item.get('DOI'),\n",
    "                    'title': item.get('title', [''])[0],\n",
    "                    'publication_year': item.get('created', {}).get('date-parts', [[None]])[0][0],\n",
    "                    'journal': item.get('container-title', [''])[0],\n",
    "                    'citation_count': item.get('is-referenced-by-count', 'NA')\n",
    "                }\n",
    "                extended_info.append(info)\n",
    "            print('got batch ' + str(i))\n",
    "        except Exception as e:\n",
    "            print(f\"Error fetching data for batch starting with DOI {batch[0]}: {e}\")\n",
    "    return extended_info\n",
    "# Fetch and extend data\n",
    "\n",
    "doi_list = dfd['k'].tolist()\n",
    "extended_info = pd.DataFrame(fetch_crossref_info(doi_list))\n"
   ]
  },
  {
   "cell_type": "code",
   "execution_count": 43,
   "id": "d9a396f6-dc3f-48c8-94b2-90757532d742",
   "metadata": {},
   "outputs": [],
   "source": [
    "\n",
    "dfd['doi'] = dfd['k']\n",
    "df_extended = pd.merge(dfd, extended_info, on='doi', how='left')"
   ]
  },
  {
   "cell_type": "code",
   "execution_count": 44,
   "id": "58e80154-f9a5-41eb-96e7-7a2d11cdfd12",
   "metadata": {},
   "outputs": [],
   "source": [
    "df_extended['Predict'] = p"
   ]
  },
  {
   "cell_type": "code",
   "execution_count": 45,
   "id": "c63075f2-eb8d-4db0-9603-665f83e516d6",
   "metadata": {},
   "outputs": [],
   "source": [
    "\n",
    "df_extended.to_csv('extended_df.tsv', sep='\\t', index=False)"
   ]
  }
 ],
 "metadata": {
  "kernelspec": {
   "display_name": "Python 3 (ipykernel)",
   "language": "python",
   "name": "python3"
  },
  "language_info": {
   "codemirror_mode": {
    "name": "ipython",
    "version": 3
   },
   "file_extension": ".py",
   "mimetype": "text/x-python",
   "name": "python",
   "nbconvert_exporter": "python",
   "pygments_lexer": "ipython3",
   "version": "3.12.6"
  }
 },
 "nbformat": 4,
 "nbformat_minor": 5
}
